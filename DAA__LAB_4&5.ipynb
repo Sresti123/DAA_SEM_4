{
 "cells": [
  {
   "cell_type": "markdown",
   "metadata": {},
   "source": [
    "# LAB-4"
   ]
  },
  {
   "cell_type": "code",
   "execution_count": null,
   "metadata": {},
   "outputs": [],
   "source": [
    "def fractional_knapsack(values, weights, capacity):\n",
    "\n",
    "    value_per_weight = [(v / w, v, w) for v, w in zip(values, weights)]\n",
    "    value_per_weight.sort(reverse=True)  \n",
    "    \n",
    "    total_value = 0\n",
    "    remaining_capacity = capacity\n",
    "\n",
    "    for val_per_w, val, wt in value_per_weight:\n",
    "        if wt <= remaining_capacity:\n",
    "            total_value += val\n",
    "            remaining_capacity -= wt\n",
    "        else:\n",
    "            total_value += val_per_w * remaining_capacity\n",
    "            break \n",
    "\n",
    "    return total_value\n",
    "\n",
    "values = [60, 100, 120]\n",
    "weights = [10, 20, 30]\n",
    "capacity = 50\n",
    "print(fractional_knapsack(values, weights, capacity))"
   ]
  },
  {
   "cell_type": "code",
   "execution_count": null,
   "metadata": {},
   "outputs": [],
   "source": [
    "def maximize_sum(arr):\n",
    "    arr.sort()\n",
    "\n",
    "    max_sum = 0\n",
    "\n",
    "    for i, num in enumerate(arr):\n",
    "        max_sum += num * i\n",
    "\n",
    "    return max_sum\n",
    "\n",
    "arr = [2, 5, 3, 4, 0]\n",
    "print(maximize_sum(arr))"
   ]
  },
  {
   "cell_type": "code",
   "execution_count": null,
   "metadata": {},
   "outputs": [],
   "source": [
    "def min_sum_of_products(array_One, array_Two):\n",
    "    array_One.sort()\n",
    "    array_Two.sort(reverse=True)\n",
    "\n",
    "    min_sum = sum(a * b for a, b in zip(array_One, array_Two))\n",
    "\n",
    "    return min_sum\n",
    "\n",
    "array_One = [7, 5, 1, 4]\n",
    "array_Two = [6, 17, 9, 3]\n",
    "print(min_sum_of_products(array_One, array_Two))\n"
   ]
  },
  {
   "cell_type": "markdown",
   "metadata": {},
   "source": [
    "# LAB-5"
   ]
  },
  {
   "cell_type": "code",
   "execution_count": null,
   "metadata": {},
   "outputs": [],
   "source": [
    "def candies(n, arr):\n",
    "    candies_arr = [1] * n\n",
    "\n",
    "    for i in range(1, n):\n",
    "        if arr[i] > arr[i - 1]:\n",
    "            candies_arr[i] = candies_arr[i - 1] + 1\n",
    "\n",
    "    for i in range(n - 2, -1, -1):\n",
    "        if arr[i] > arr[i + 1]:\n",
    "            candies_arr[i] = max(candies_arr[i], candies_arr[i + 1] + 1)\n",
    "\n",
    "    return sum(candies_arr)\n",
    "\n",
    "n0 = 3\n",
    "arr0 = [1, 2, 2]\n",
    "print(candies(n0, arr0))\n",
    "\n",
    "n1 = 10\n",
    "arr1 = [2, 4, 2, 6, 1, 7, 8, 9, 2, 1]\n",
    "print(candies(n1, arr1))\n",
    "\n",
    "n2 = 9\n",
    "arr2 = [8, 2, 4, 3, 5, 2, 6, 4, 5]\n",
    "print(candies(n2, arr2))"
   ]
  }
 ],
 "metadata": {
  "language_info": {
   "name": "python"
  }
 },
 "nbformat": 4,
 "nbformat_minor": 2
}
